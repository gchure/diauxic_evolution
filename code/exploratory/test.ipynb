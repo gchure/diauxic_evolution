{
 "metadata": {
  "language_info": {
   "codemirror_mode": {
    "name": "ipython",
    "version": 3
   },
   "file_extension": ".py",
   "mimetype": "text/x-python",
   "name": "python",
   "nbconvert_exporter": "python",
   "pygments_lexer": "ipython3",
   "version": "3.8.5-final"
  },
  "orig_nbformat": 2,
  "kernelspec": {
   "name": "python3",
   "display_name": "Python 3",
   "language": "python"
  }
 },
 "nbformat": 4,
 "nbformat_minor": 2,
 "cells": [
  {
   "source": [
    "# Exploring Data from Favate et al. 2021"
   ],
   "cell_type": "markdown",
   "metadata": {}
  },
  {
   "cell_type": "code",
   "execution_count": 1,
   "metadata": {},
   "outputs": [],
   "source": [
    "import numpy as np \n",
    "import pandas as pd \n",
    "import diaux.viz \n",
    "import altair as alt \n",
    "colors, palette = diaux.viz.altair_style()"
   ]
  },
  {
   "cell_type": "code",
   "execution_count": 3,
   "metadata": {},
   "outputs": [
    {
     "output_type": "execute_result",
     "data": {
      "text/plain": [
       "   repl seqtype   line target_id  est_counts  eff_length  length           tpm\n",
       "0  rep1    ribo  Ara-1      alaT        5005     51.9997      76  11248.254541\n",
       "1  rep1    ribo  Ara-1      alaU        5005     51.9997      76  11248.254541\n",
       "2  rep1    ribo  Ara-1      alaV        5005     51.9997      76  11248.254541\n",
       "3  rep1    ribo  Ara-1      alaW        1345     51.9997      76   3022.757714\n",
       "4  rep1    ribo  Ara-1      alaX        1345     51.9997      76   3022.757714"
      ],
      "text/html": "<div>\n<style scoped>\n    .dataframe tbody tr th:only-of-type {\n        vertical-align: middle;\n    }\n\n    .dataframe tbody tr th {\n        vertical-align: top;\n    }\n\n    .dataframe thead th {\n        text-align: right;\n    }\n</style>\n<table border=\"1\" class=\"dataframe\">\n  <thead>\n    <tr style=\"text-align: right;\">\n      <th></th>\n      <th>repl</th>\n      <th>seqtype</th>\n      <th>line</th>\n      <th>target_id</th>\n      <th>est_counts</th>\n      <th>eff_length</th>\n      <th>length</th>\n      <th>tpm</th>\n    </tr>\n  </thead>\n  <tbody>\n    <tr>\n      <th>0</th>\n      <td>rep1</td>\n      <td>ribo</td>\n      <td>Ara-1</td>\n      <td>alaT</td>\n      <td>5005</td>\n      <td>51.9997</td>\n      <td>76</td>\n      <td>11248.254541</td>\n    </tr>\n    <tr>\n      <th>1</th>\n      <td>rep1</td>\n      <td>ribo</td>\n      <td>Ara-1</td>\n      <td>alaU</td>\n      <td>5005</td>\n      <td>51.9997</td>\n      <td>76</td>\n      <td>11248.254541</td>\n    </tr>\n    <tr>\n      <th>2</th>\n      <td>rep1</td>\n      <td>ribo</td>\n      <td>Ara-1</td>\n      <td>alaV</td>\n      <td>5005</td>\n      <td>51.9997</td>\n      <td>76</td>\n      <td>11248.254541</td>\n    </tr>\n    <tr>\n      <th>3</th>\n      <td>rep1</td>\n      <td>ribo</td>\n      <td>Ara-1</td>\n      <td>alaW</td>\n      <td>1345</td>\n      <td>51.9997</td>\n      <td>76</td>\n      <td>3022.757714</td>\n    </tr>\n    <tr>\n      <th>4</th>\n      <td>rep1</td>\n      <td>ribo</td>\n      <td>Ara-1</td>\n      <td>alaX</td>\n      <td>1345</td>\n      <td>51.9997</td>\n      <td>76</td>\n      <td>3022.757714</td>\n    </tr>\n  </tbody>\n</table>\n</div>"
     },
     "metadata": {},
     "execution_count": 3
    }
   ],
   "source": [
    "reads = pd.read_csv('../../data/Favate2021/TableS1_read_counts.csv')\n",
    "reads.head()"
   ]
  },
  {
   "cell_type": "code",
   "execution_count": null,
   "metadata": {},
   "outputs": [],
   "source": []
  }
 ]
}