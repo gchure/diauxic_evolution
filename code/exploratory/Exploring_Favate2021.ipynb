{
 "metadata": {
  "language_info": {
   "codemirror_mode": {
    "name": "ipython",
    "version": 3
   },
   "file_extension": ".py",
   "mimetype": "text/x-python",
   "name": "python",
   "nbconvert_exporter": "python",
   "pygments_lexer": "ipython3",
   "version": "3.8.5-final"
  },
  "orig_nbformat": 2,
  "kernelspec": {
   "name": "python3",
   "display_name": "Python 3",
   "language": "python"
  }
 },
 "nbformat": 4,
 "nbformat_minor": 2,
 "cells": [
  {
   "source": [
    "# Exploring Data from Favate et al. 2021"
   ],
   "cell_type": "markdown",
   "metadata": {}
  },
  {
   "cell_type": "code",
   "execution_count": 7,
   "metadata": {},
   "outputs": [],
   "source": [
    "import numpy as np \n",
    "import pandas as pd \n",
    "import diaux.viz \n",
    "import altair as alt \n",
    "colors, palette = diaux.viz.altair_style()"
   ]
  },
  {
   "cell_type": "code",
   "execution_count": 17,
   "metadata": {},
   "outputs": [],
   "source": [
    "# Load the tidied Favate data\n",
    "data = pd.read_csv('../../data/Favate2021/processed/Favate2021_reads_tidy.csv')\n",
    "\n",
    "# Set up our own cog class organization\n",
    "cog_hier = {'Information storage and processing': ['J', 'A', 'K', 'L', 'B'],\n",
    "            'Cellular processes and signaling': ['D', 'Y', 'V', 'T', 'M', 'N', 'Z', 'W', 'U', 'O'],\n",
    "            'Metabolism': ['C', 'G', 'E', 'F', 'H', 'I', 'P', 'Q'],\n",
    "            'Poorly Characterized/Not Assigned': ['R', 'S', 'Not Assigned']}\n",
    "cog_hier_rev = {}\n",
    "for k, v in cog_hier.items():\n",
    "    for letter in v:\n",
    "        cog_hier_rev[letter] = k\n",
    "\n",
    "for k, v in cog_hier_rev.items():\n",
    "    data.loc[data['cog_letter']==k, 'cog_sector'] = v\n",
    "\n",
    "# For each line and replicate, compute the total fraction of each cog classification\n",
    "grouped = []\n",
    "for g, d in data.groupby(['line', 'replicate']):\n",
    "    total_rnas = d['est_counts'].sum()\n",
    "    _grouped = d.groupby(['line', 'replicate', 'cog_sector']).sum().reset_index()\n",
    "    _grouped['fraction'] = _grouped['est_counts'].values / total_rnas \n",
    "    grouped.append(_grouped)\n",
    "\n",
    "agg = pd.concat(grouped, sort=False)\n"
   ]
  },
  {
   "cell_type": "code",
   "execution_count": 19,
   "metadata": {},
   "outputs": [
    {
     "output_type": "execute_result",
     "data": {
      "text/html": "\n<div id=\"altair-viz-9c03437f5fbe4c1b9806bb03109a947a\"></div>\n<script type=\"text/javascript\">\n  (function(spec, embedOpt){\n    let outputDiv = document.currentScript.previousElementSibling;\n    if (outputDiv.id !== \"altair-viz-9c03437f5fbe4c1b9806bb03109a947a\") {\n      outputDiv = document.getElementById(\"altair-viz-9c03437f5fbe4c1b9806bb03109a947a\");\n    }\n    const paths = {\n      \"vega\": \"https://cdn.jsdelivr.net/npm//vega@5?noext\",\n      \"vega-lib\": \"https://cdn.jsdelivr.net/npm//vega-lib?noext\",\n      \"vega-lite\": \"https://cdn.jsdelivr.net/npm//vega-lite@4.8.1?noext\",\n      \"vega-embed\": \"https://cdn.jsdelivr.net/npm//vega-embed@6?noext\",\n    };\n\n    function loadScript(lib) {\n      return new Promise(function(resolve, reject) {\n        var s = document.createElement('script');\n        s.src = paths[lib];\n        s.async = true;\n        s.onload = () => resolve(paths[lib]);\n        s.onerror = () => reject(`Error loading script: ${paths[lib]}`);\n        document.getElementsByTagName(\"head\")[0].appendChild(s);\n      });\n    }\n\n    function showError(err) {\n      outputDiv.innerHTML = `<div class=\"error\" style=\"color:red;\">${err}</div>`;\n      throw err;\n    }\n\n    function displayChart(vegaEmbed) {\n      vegaEmbed(outputDiv, spec, embedOpt)\n        .catch(err => showError(`Javascript Error: ${err.message}<br>This usually means there's a typo in your chart specification. See the javascript console for the full traceback.`));\n    }\n\n    if(typeof define === \"function\" && define.amd) {\n      requirejs.config({paths});\n      require([\"vega-embed\"], displayChart, err => showError(`Error loading script: ${err.message}`));\n    } else if (typeof vegaEmbed === \"function\") {\n      displayChart(vegaEmbed);\n    } else {\n      loadScript(\"vega\")\n        .then(() => loadScript(\"vega-lite\"))\n        .then(() => loadScript(\"vega-embed\"))\n        .catch(showError)\n        .then(() => displayChart(vegaEmbed));\n    }\n  })({\"config\": {\"background\": \"white\", \"group\": {\"fill\": \"white\"}, \"view\": {\"strokeWidth\": 0, \"height\": 300, \"width\": 400, \"fill\": \"#f0f3f7\"}, \"point\": {\"size\": 40, \"filled\": true, \"opacity\": 1, \"strokeWidth\": 0.75, \"stroke\": \"#FFFFFF\"}, \"square\": {\"size\": 40, \"filled\": true, \"opacity\": 1, \"strokeWidth\": 0.75, \"stroke\": \"#FFFFFF\"}, \"circle\": {\"size\": 40, \"filled\": true, \"opacity\": 1, \"strokeWidth\": 0.75, \"stroke\": \"#FFFFFF\"}, \"line\": {\"size\": 2}, \"axis\": {\"domainColor\": \"#ffffff\", \"domainWidth\": 0.5, \"labelColor\": \"#5b5b5b\", \"labelFontSize\": 10, \"labelFont\": \"Nunito\", \"titleFont\": \"Nunito\", \"titleFontWeight\": 700, \"titleFontSize\": 14, \"titleColor\": \"#4b4b4b\", \"grid\": true, \"gridColor\": \"#ffffff\", \"gridWidth\": 0.5, \"ticks\": false}, \"range\": {\"category\": [\"#4c4b4c\", \"#3373ba\", \"#5cb75b\", \"#d8534f\", \"#8066ad\", \"#f0ad4d\"]}, \"legend\": {\"labelFontSize\": 14, \"labelFont\": \"Nunito\", \"titleFont\": \"Nunito\", \"titleFontSize\": 14, \"titleFontWeight\": 700, \"titleFontColor\": \"#44b4b4b\", \"symbolSize\": 75}, \"title\": {\"font\": \"Nunito\", \"fontWeight\": 700, \"fontSize\": 14, \"fontColor\": \"#4b4b4b\"}}, \"data\": {\"name\": \"data-fba87a93e86390f0180e54ecd9c58d86\"}, \"mark\": \"bar\", \"encoding\": {\"color\": {\"type\": \"nominal\", \"field\": \"cog_sector\", \"title\": \"COG class\"}, \"x\": {\"type\": \"quantitative\", \"field\": \"fraction\", \"title\": \"RNA transcript fraction\"}, \"y\": {\"type\": \"nominal\", \"field\": \"line\", \"title\": \"evolved line\"}}, \"$schema\": \"https://vega.github.io/schema/vega-lite/v4.8.1.json\", \"datasets\": {\"data-fba87a93e86390f0180e54ecd9c58d86\": [{\"line\": \"Ara+1\", \"replicate\": 1, \"cog_sector\": \"Cellular processes and signaling\", \"est_counts\": 405703, \"eff_length\": 869942.0, \"length\": 889262, \"tpm\": 19504.537183364126, \"fraction\": 0.1276240676386828}, {\"line\": \"Ara+1\", \"replicate\": 1, \"cog_sector\": \"Information storage and processing\", \"est_counts\": 705553, \"eff_length\": 632032.9994000001, \"length\": 648185, \"tpm\": 57440.51393248471, \"fraction\": 0.22194941569245374}, {\"line\": \"Ara+1\", \"replicate\": 1, \"cog_sector\": \"Metabolism\", \"est_counts\": 719790, \"eff_length\": 1750254.9988000002, \"length\": 1787431, \"tpm\": 53177.33857584309, \"fraction\": 0.22642802159621075}, {\"line\": \"Ara+1\", \"replicate\": 1, \"cog_sector\": \"Poorly Characterized/Not Assigned\", \"est_counts\": 1347383, \"eff_length\": 949337.9751000027, \"length\": 981810, \"tpm\": 869856.0102313675, \"fraction\": 0.42385316136979845}, {\"line\": \"Ara+2\", \"replicate\": 1, \"cog_sector\": \"Cellular processes and signaling\", \"est_counts\": 635558, \"eff_length\": 869942.0, \"length\": 889262, \"tpm\": 14911.04704273343, \"fraction\": 0.11353418326442709}, {\"line\": \"Ara+2\", \"replicate\": 1, \"cog_sector\": \"Information storage and processing\", \"est_counts\": 1005417, \"eff_length\": 632032.9994000001, \"length\": 648185, \"tpm\": 46751.09670986799, \"fraction\": 0.17960469057925552}, {\"line\": \"Ara+2\", \"replicate\": 1, \"cog_sector\": \"Metabolism\", \"est_counts\": 1627396, \"eff_length\": 1750254.9988000002, \"length\": 1787431, \"tpm\": 88673.47939713355, \"fraction\": 0.2907131618322727}, {\"line\": \"Ara+2\", \"replicate\": 1, \"cog_sector\": \"Poorly Characterized/Not Assigned\", \"est_counts\": 2328444, \"eff_length\": 1010106.9754000027, \"length\": 1042579, \"tpm\": 849638.7090096442, \"fraction\": 0.4159462831353797}, {\"line\": \"Ara+3\", \"replicate\": 1, \"cog_sector\": \"Cellular processes and signaling\", \"est_counts\": 286082, \"eff_length\": 869942.0, \"length\": 889262, \"tpm\": 15415.015061053375, \"fraction\": 0.1085813097832564}, {\"line\": \"Ara+3\", \"replicate\": 1, \"cog_sector\": \"Information storage and processing\", \"est_counts\": 491431, \"eff_length\": 632032.9994000001, \"length\": 648185, \"tpm\": 45203.45792186681, \"fraction\": 0.18652072359706473}, {\"line\": \"Ara+3\", \"replicate\": 1, \"cog_sector\": \"Metabolism\", \"est_counts\": 674314, \"eff_length\": 1750254.9988000002, \"length\": 1787431, \"tpm\": 78456.79083998268, \"fraction\": 0.25593325453956123}, {\"line\": \"Ara+3\", \"replicate\": 1, \"cog_sector\": \"Poorly Characterized/Not Assigned\", \"est_counts\": 1182434, \"eff_length\": 949337.9751000027, \"length\": 981810, \"tpm\": 860905.390773887, \"fraction\": 0.4487882231397117}, {\"line\": \"Ara+4\", \"replicate\": 1, \"cog_sector\": \"Cellular processes and signaling\", \"est_counts\": 576249, \"eff_length\": 869942.0, \"length\": 889262, \"tpm\": 13485.671286833216, \"fraction\": 0.10382978984093338}, {\"line\": \"Ara+4\", \"replicate\": 1, \"cog_sector\": \"Information storage and processing\", \"est_counts\": 1229572, \"eff_length\": 632032.9994000001, \"length\": 648185, \"tpm\": 53795.96357645313, \"fraction\": 0.2215469395249209}, {\"line\": \"Ara+4\", \"replicate\": 1, \"cog_sector\": \"Metabolism\", \"est_counts\": 1240322, \"eff_length\": 1750254.9988000002, \"length\": 1787431, \"tpm\": 78523.07454447262, \"fraction\": 0.22348389775094826}, {\"line\": \"Ara+4\", \"replicate\": 1, \"cog_sector\": \"Poorly Characterized/Not Assigned\", \"est_counts\": 2502784, \"eff_length\": 949334.9751000027, \"length\": 981807, \"tpm\": 854174.6519843998, \"fraction\": 0.45095702853671005}, {\"line\": \"Ara+5\", \"replicate\": 1, \"cog_sector\": \"Cellular processes and signaling\", \"est_counts\": 344029, \"eff_length\": 869942.0, \"length\": 889262, \"tpm\": 21897.45790468484, \"fraction\": 0.12794742399206196}, {\"line\": \"Ara+5\", \"replicate\": 1, \"cog_sector\": \"Information storage and processing\", \"est_counts\": 526481, \"eff_length\": 632032.9994000001, \"length\": 648185, \"tpm\": 52219.734115487765, \"fraction\": 0.19580293443507607}, {\"line\": \"Ara+5\", \"replicate\": 1, \"cog_sector\": \"Metabolism\", \"est_counts\": 750261, \"eff_length\": 1750254.9988000002, \"length\": 1787431, \"tpm\": 88894.90251389082, \"fraction\": 0.2790286931383936}, {\"line\": \"Ara+5\", \"replicate\": 1, \"cog_sector\": \"Poorly Characterized/Not Assigned\", \"est_counts\": 1067659, \"eff_length\": 949337.9751000027, \"length\": 981810, \"tpm\": 836966.9763156261, \"fraction\": 0.39707181299233757}, {\"line\": \"Ara-1\", \"replicate\": 1, \"cog_sector\": \"Cellular processes and signaling\", \"est_counts\": 332780, \"eff_length\": 869942.0, \"length\": 889262, \"tpm\": 22932.970130184283, \"fraction\": 0.12668607678977678}, {\"line\": \"Ara-1\", \"replicate\": 1, \"cog_sector\": \"Information storage and processing\", \"est_counts\": 618055, \"eff_length\": 632032.9994000001, \"length\": 648185, \"tpm\": 71349.25723545958, \"fraction\": 0.23528746676574763}, {\"line\": \"Ara-1\", \"replicate\": 1, \"cog_sector\": \"Metabolism\", \"est_counts\": 695804, \"eff_length\": 1750254.9988000002, \"length\": 1787431, \"tpm\": 77695.5649739055, \"fraction\": 0.26488574726436037}, {\"line\": \"Ara-1\", \"replicate\": 1, \"cog_sector\": \"Poorly Characterized/Not Assigned\", \"est_counts\": 979787, \"eff_length\": 949337.9751000027, \"length\": 981810, \"tpm\": 828000.7119881482, \"fraction\": 0.37299528553285966}, {\"line\": \"Ara-2\", \"replicate\": 1, \"cog_sector\": \"Cellular processes and signaling\", \"est_counts\": 456949, \"eff_length\": 869942.0, \"length\": 889262, \"tpm\": 23897.695020709518, \"fraction\": 0.1282675381224477}, {\"line\": \"Ara-2\", \"replicate\": 1, \"cog_sector\": \"Information storage and processing\", \"est_counts\": 785342, \"eff_length\": 632032.9994000001, \"length\": 648185, \"tpm\": 61614.99356228133, \"fraction\": 0.22044885736517492}, {\"line\": \"Ara-2\", \"replicate\": 1, \"cog_sector\": \"Metabolism\", \"est_counts\": 1045530, \"eff_length\": 1750254.9988000002, \"length\": 1787431, \"tpm\": 96458.6842178266, \"fraction\": 0.29348474147697606}, {\"line\": \"Ara-2\", \"replicate\": 1, \"cog_sector\": \"Poorly Characterized/Not Assigned\", \"est_counts\": 1273919, \"eff_length\": 949337.9751000027, \"length\": 981810, \"tpm\": 817998.8109032497, \"fraction\": 0.357594510322619}, {\"line\": \"Ara-3\", \"replicate\": 1, \"cog_sector\": \"Cellular processes and signaling\", \"est_counts\": 145946, \"eff_length\": 869942.0, \"length\": 889262, \"tpm\": 23183.63792075567, \"fraction\": 0.13413821532002423}, {\"line\": \"Ara-3\", \"replicate\": 1, \"cog_sector\": \"Information storage and processing\", \"est_counts\": 173969, \"eff_length\": 632032.9994000001, \"length\": 648185, \"tpm\": 40345.7641153033, \"fraction\": 0.15989400998320813}, {\"line\": \"Ara-3\", \"replicate\": 1, \"cog_sector\": \"Metabolism\", \"est_counts\": 307193, \"eff_length\": 1750254.9988000002, \"length\": 1787431, \"tpm\": 87491.95489075973, \"fraction\": 0.28233950076606557}, {\"line\": \"Ara-3\", \"replicate\": 1, \"cog_sector\": \"Poorly Characterized/Not Assigned\", \"est_counts\": 460663, \"eff_length\": 949337.9751000027, \"length\": 981810, \"tpm\": 848950.5521638345, \"fraction\": 0.4233929856520105}, {\"line\": \"Ara-4\", \"replicate\": 1, \"cog_sector\": \"Cellular processes and signaling\", \"est_counts\": 566391, \"eff_length\": 869942.0, \"length\": 889262, \"tpm\": 22141.036708907566, \"fraction\": 0.12625943784232033}, {\"line\": \"Ara-4\", \"replicate\": 1, \"cog_sector\": \"Information storage and processing\", \"est_counts\": 1135869, \"eff_length\": 632032.9994000001, \"length\": 648185, \"tpm\": 69915.68997279205, \"fraction\": 0.2532070273053748}, {\"line\": \"Ara-4\", \"replicate\": 1, \"cog_sector\": \"Metabolism\", \"est_counts\": 1226072, \"eff_length\": 1750254.9988000002, \"length\": 1787431, \"tpm\": 98730.0306506876, \"fraction\": 0.273315009373753}, {\"line\": \"Ara-4\", \"replicate\": 1, \"cog_sector\": \"Poorly Characterized/Not Assigned\", \"est_counts\": 1556610, \"eff_length\": 949336.9751000027, \"length\": 981809, \"tpm\": 809181.5672901, \"fraction\": 0.34699828129284227}, {\"line\": \"Ara-5\", \"replicate\": 1, \"cog_sector\": \"Cellular processes and signaling\", \"est_counts\": 456151, \"eff_length\": 869942.0, \"length\": 889262, \"tpm\": 19100.774961297982, \"fraction\": 0.12316967270394304}, {\"line\": \"Ara-5\", \"replicate\": 1, \"cog_sector\": \"Information storage and processing\", \"est_counts\": 809691, \"eff_length\": 632032.9994000001, \"length\": 648185, \"tpm\": 51226.26783793169, \"fraction\": 0.21863237274790223}, {\"line\": \"Ara-5\", \"replicate\": 1, \"cog_sector\": \"Metabolism\", \"est_counts\": 873079, \"eff_length\": 1750254.9988000002, \"length\": 1787431, \"tpm\": 84656.450002094, \"fraction\": 0.23574836989217582}, {\"line\": \"Ara-5\", \"replicate\": 1, \"cog_sector\": \"Poorly Characterized/Not Assigned\", \"est_counts\": 1563914, \"eff_length\": 949337.9751000027, \"length\": 981810, \"tpm\": 844995.9164580847, \"fraction\": 0.4222873029262555}, {\"line\": \"Ara-6\", \"replicate\": 1, \"cog_sector\": \"Cellular processes and signaling\", \"est_counts\": 413095, \"eff_length\": 869942.0, \"length\": 889262, \"tpm\": 21684.284666127314, \"fraction\": 0.12166779077952564}, {\"line\": \"Ara-6\", \"replicate\": 1, \"cog_sector\": \"Information storage and processing\", \"est_counts\": 835320, \"eff_length\": 632032.9994000001, \"length\": 648185, \"tpm\": 66131.26869447168, \"fraction\": 0.24602461659897445}, {\"line\": \"Ara-6\", \"replicate\": 1, \"cog_sector\": \"Metabolism\", \"est_counts\": 949399, \"eff_length\": 1750254.9988000002, \"length\": 1787431, \"tpm\": 102982.63735321554, \"fraction\": 0.27962400633822937}, {\"line\": \"Ara-6\", \"replicate\": 1, \"cog_sector\": \"Poorly Characterized/Not Assigned\", \"est_counts\": 1196807, \"eff_length\": 949337.9751000027, \"length\": 981810, \"tpm\": 809175.5149036158, \"fraction\": 0.3524924380093483}, {\"line\": \"REL606\", \"replicate\": 1, \"cog_sector\": \"Cellular processes and signaling\", \"est_counts\": 487082, \"eff_length\": 869942.0, \"length\": 889262, \"tpm\": 12749.395183598594, \"fraction\": 0.10583449706331553}, {\"line\": \"REL606\", \"replicate\": 1, \"cog_sector\": \"Information storage and processing\", \"est_counts\": 712455, \"eff_length\": 632032.9994000001, \"length\": 648185, \"tpm\": 38980.07423916267, \"fraction\": 0.15480415331554948}, {\"line\": \"REL606\", \"replicate\": 1, \"cog_sector\": \"Metabolism\", \"est_counts\": 945339, \"eff_length\": 1750254.9988000002, \"length\": 1787431, \"tpm\": 75185.70902070348, \"fraction\": 0.20540582000430654}, {\"line\": \"REL606\", \"replicate\": 1, \"cog_sector\": \"Poorly Characterized/Not Assigned\", \"est_counts\": 2456801, \"eff_length\": 949337.9751000027, \"length\": 981810, \"tpm\": 873071.7786612123, \"fraction\": 0.5338203797710666}, {\"line\": \"REL607\", \"replicate\": 1, \"cog_sector\": \"Cellular processes and signaling\", \"est_counts\": 544547, \"eff_length\": 869942.0, \"length\": 889262, \"tpm\": 11470.220080992713, \"fraction\": 0.10439606576787079}, {\"line\": \"REL607\", \"replicate\": 1, \"cog_sector\": \"Information storage and processing\", \"est_counts\": 682055, \"eff_length\": 632032.9994000001, \"length\": 648185, \"tpm\": 35052.90810737422, \"fraction\": 0.13075796696576258}, {\"line\": \"REL607\", \"replicate\": 1, \"cog_sector\": \"Metabolism\", \"est_counts\": 1024957, \"eff_length\": 1750254.9988000002, \"length\": 1787431, \"tpm\": 73888.13944431847, \"fraction\": 0.1964963141496318}, {\"line\": \"REL607\", \"replicate\": 1, \"cog_sector\": \"Poorly Characterized/Not Assigned\", \"est_counts\": 2964004, \"eff_length\": 949337.9751000027, \"length\": 981810, \"tpm\": 879577.8106703843, \"fraction\": 0.5682344343467728}]}}, {\"mode\": \"vega-lite\"});\n</script>",
      "text/plain": [
       "alt.Chart(...)"
      ]
     },
     "metadata": {},
     "execution_count": 19
    }
   ],
   "source": [
    "chart = alt.Chart(agg[agg['replicate']==1]).mark_bar().encode(\n",
    "            x=alt.X(field='fraction', type='quantitative', title='RNA transcript fraction'),\n",
    "            y=alt.Y(field='line', type='nominal', title='evolved line'),\n",
    "            color=alt.Color(field='cog_sector', type='nominal', title='COG class'))\n",
    "chart"
   ]
  },
  {
   "cell_type": "code",
   "execution_count": null,
   "metadata": {},
   "outputs": [],
   "source": []
  }
 ]
}